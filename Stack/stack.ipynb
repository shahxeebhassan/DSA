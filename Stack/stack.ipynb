{
 "cells": [
  {
   "attachments": {},
   "cell_type": "markdown",
   "metadata": {},
   "source": [
    "## Creating Stack Class"
   ]
  },
  {
   "cell_type": "code",
   "execution_count": 1,
   "metadata": {},
   "outputs": [],
   "source": [
    "class Stack:\n",
    "    # Constructor creates a list\n",
    "    def __init__(self):\n",
    "        self.items = []\n",
    "    # Push method to add element\n",
    "    # It uses append method to add values at the end of the list. The time complexity of this operation is O(1).\n",
    "    # The last element added to the list will be the top of the stack.\n",
    "\n",
    "    def push(self, value):\n",
    "        self.items.append(value)\n",
    "    # Pop method to remove element\n",
    "    # It uses pop method to remove element from the list. The time complexity of this operation is O(1).\n",
    "    # pop method removes the last element in the list which is the top of the stack as well and returns the value of the element removed.\n",
    "\n",
    "    def pop(self):\n",
    "        return self.items.pop()\n",
    "    # get_stack method to return the stack\n",
    "    # It returns the list which represents the stack\n",
    "    # The time complexity of this operation is O(1).\n",
    "\n",
    "    def get_stack(self):\n",
    "        return self.items\n",
    "    # peek method to return the top of the stack\n",
    "    # It returns the last element in the list which represents the top of the stack\n",
    "    # The time complexity of this operation is O(1).\n",
    "\n",
    "    def peek(self):\n",
    "        return self.items[-1]\n",
    "    # is_empty method to check if the stack is empty\n",
    "    # It returns true if the list is empty, false otherwise\n",
    "    # The time complexity of this operation is O(1).\n",
    "\n",
    "    def is_empty(self):\n",
    "        return self.items == []\n",
    "    # delete method to delete the stack\n",
    "    # It sets the list representing the stack to empty\n",
    "    # The time complexity of this operation is O(1).\n",
    "\n",
    "    # def delete(self):\n",
    "    #     self.items = []\n",
    "    # # size method to return the size of the stack\n",
    "    # # It returns the length of the list which represents the size of the stack\n",
    "    # # The time complexity of this operation is O(1).\n",
    "\n",
    "    # def size(self):\n",
    "    #     return len(self.items)\n",
    "    # # reverse method to reverse the stack\n",
    "    # # It uses the reverse method to reverse the list\n",
    "    # # The time complexity of this operation is O(n).\n",
    "\n",
    "    # def reverse(self):\n",
    "    #     return self.items.reverse()\n",
    "    # # str method to print the stack\n",
    "    # # It returns the string representation of the list\n",
    "    # # The time complexity of this operation is O(1).\n",
    "\n",
    "    # def __str__(self):\n",
    "    #     return str(self.items)\n",
    "    # # iter method to iterate through the stack\n",
    "    # # It returns the iterator of the list\n",
    "    # # The time complexity of this operation is O(1).\n",
    "\n",
    "    # def __iter__(self):\n",
    "    #     return iter(self.items)\n",
    "\n",
    "# s = stack()\n",
    "# s.push(\"A\")\n",
    "# s.push(\"B\")\n",
    "# print(s.get_stack())\n",
    "# key = s.pop()\n",
    "\n",
    "# print(s.get_stack())\n",
    "# print(\"The popped element is: \",key)\n",
    "# print(\"The top of the stack is: \",s.peek())\n",
    "# print(\"Is the stack empty? \",s.is_empty())\n",
    "# print(\"The size of the stack is: \",s.size())\n",
    "# s.delete()\n",
    "# print(\"Is the stack empty? \",s.is_empty())\n",
    "# s.push(\"A\")\n",
    "# s.push(\"B\")\n",
    "# s.push(\"C\")\n",
    "# s.push(\"D\")\n",
    "# print(\"The stack is: \",s.get_stack())\n",
    "# s.reverse()\n",
    "# print(\"The reversed stack is: \",s.get_stack())\n",
    "# print(\"The stack is: \",s)\n"
   ]
  },
  {
   "attachments": {},
   "cell_type": "markdown",
   "metadata": {},
   "source": [
    "### Balanced Brackets Example"
   ]
  },
  {
   "cell_type": "code",
   "execution_count": null,
   "metadata": {},
   "outputs": [],
   "source": [
    "def is_balanced(tota):\n",
    "    stack = Stack()\n",
    "    balanced = True\n",
    "    index = 0\n",
    "    while index < len(tota) and balanced:\n",
    "        symbol = tota[index]\n",
    "        if symbol in \"([{\":\n",
    "            stack.push(symbol)\n",
    "        else:\n",
    "            if stack.is_empty():\n",
    "                balanced = False\n",
    "            else:\n",
    "                top = stack.pop()\n",
    "                if not matches(top, symbol):\n",
    "                    balanced = False\n",
    "        index = index + 1\n",
    "\n",
    "    if balanced and stack.is_empty():\n",
    "        return True\n",
    "    else:\n",
    "        return False\n",
    "\n",
    "\n",
    "def matches(open, close):\n",
    "    opens = \"([{\"\n",
    "    closes = \")]}\"\n",
    "    return opens.index(open) == closes.index(close)\n",
    "# def matches(open, close):\n",
    "#     if open == \"(\" and close == \")\":\n",
    "#         return True\n",
    "#     elif open == \"[\" and close == \"]\":\n",
    "#         return True\n",
    "#     elif open == \"{\" and close == \"}\":\n",
    "#         return True\n",
    "#     else:\n",
    "#         return False\n",
    "\n",
    "\n",
    "def main():\n",
    "    print(\"String : ((())) Balanced or not?\")\n",
    "    print(is_balanced(\"((()))\"))\n",
    "\n",
    "    print(\"String : (() Balanced or not?\")\n",
    "    print(is_balanced(\"(()\"))\n",
    "\n",
    "    print(\"String : (((({})))) Balanced or not?\")\n",
    "\n",
    "\n",
    "    print(is_balanced(\"(((({}))))\"))\n",
    "\n",
    "    print(\"String : [][]]] Balanced or not?\")\n",
    "    print(is_balanced(\"[][]]]\"))\n",
    "\n",
    "    print(\"String : [][] Balanced or not?\")\n",
    "    print(is_balanced(\"[][]\"))\n",
    "\n",
    "main()\n"
   ]
  },
  {
   "attachments": {},
   "cell_type": "markdown",
   "metadata": {},
   "source": [
    "### Reverse Function"
   ]
  },
  {
   "cell_type": "code",
   "execution_count": 2,
   "metadata": {},
   "outputs": [
    {
     "data": {
      "text/plain": [
       "'olleH'"
      ]
     },
     "execution_count": 2,
     "metadata": {},
     "output_type": "execute_result"
    }
   ],
   "source": [
    "def reverse(tota):\n",
    "    stack = Stack()\n",
    "    reverse = \"\"\n",
    "    for i in range(len(tota)):\n",
    "        stack.push(tota[i])\n",
    "    while not stack.is_empty():\n",
    "        reverse += stack.pop()\n",
    "    return reverse\n",
    "\n",
    "reverse(\"Hello\")\n"
   ]
  },
  {
   "attachments": {},
   "cell_type": "markdown",
   "metadata": {},
   "source": [
    "### Decimal to Binary"
   ]
  },
  {
   "cell_type": "code",
   "execution_count": 3,
   "metadata": {},
   "outputs": [
    {
     "name": "stdout",
     "output_type": "stream",
     "text": [
      "11110010\n"
     ]
    }
   ],
   "source": [
    "def dec2bin(dec_num):\n",
    "    s = Stack()\n",
    "    while dec_num > 0:\n",
    "        rem = dec_num % 2\n",
    "        s.push(rem)\n",
    "        dec_num = dec_num // 2\n",
    "    bin_num = \"\"\n",
    "    while not s.is_empty():\n",
    "        bin_num = bin_num + str(s.pop())\n",
    "    return bin_num\n",
    "\n",
    "\n",
    "print(dec2bin(242))"
   ]
  }
 ],
 "metadata": {
  "kernelspec": {
   "display_name": "Python 3",
   "language": "python",
   "name": "python3"
  },
  "language_info": {
   "codemirror_mode": {
    "name": "ipython",
    "version": 3
   },
   "file_extension": ".py",
   "mimetype": "text/x-python",
   "name": "python",
   "nbconvert_exporter": "python",
   "pygments_lexer": "ipython3",
   "version": "3.10.4"
  },
  "orig_nbformat": 4
 },
 "nbformat": 4,
 "nbformat_minor": 2
}
